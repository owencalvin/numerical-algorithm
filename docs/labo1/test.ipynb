{
 "cells": [
  {
   "cell_type": "code",
   "execution_count": 3,
   "metadata": {},
   "outputs": [
    {
     "name": "stdout",
     "output_type": "stream",
     "text": [
      "6\n",
      "10110100011111011111001\n"
     ]
    }
   ],
   "source": [
    "m = ''\n",
    "E = 8\n",
    "M = 32-E-1\n",
    "nombre = 45.123\n",
    "e=1\n",
    "while (2**e < nombre):\n",
    "    e+=1\n",
    "\n",
    "#e' = e+d;\n",
    "mEntier = nombre /(2**e)\n",
    "print(mEntier)\n",
    "valeurDuBit_m_i = 0.5\n",
    "for i in range(M):\n",
    "    if(mEntier > valeurDuBit_m_i):\n",
    "        mEntier -= valeurDuBit_m_i\n",
    "        m += '1'\n",
    "    else:\n",
    "        m+= '0'\n",
    "    valeurDuBit_m_i = valeurDuBit_m_i/2\n",
    "\n",
    "print(e)\n",
    "print(m)"
   ]
  }
 ],
 "metadata": {
  "interpreter": {
   "hash": "9156870407994b2b19334eca8b06fc70296896e3e996bed312523abb28c8835d"
  },
  "kernelspec": {
   "display_name": "Python 3.9.7 64-bit",
   "language": "python",
   "name": "python3"
  },
  "language_info": {
   "codemirror_mode": {
    "name": "ipython",
    "version": 3
   },
   "file_extension": ".py",
   "mimetype": "text/x-python",
   "name": "python",
   "nbconvert_exporter": "python",
   "pygments_lexer": "ipython3",
   "version": "3.9.7"
  },
  "orig_nbformat": 4
 },
 "nbformat": 4,
 "nbformat_minor": 2
}
